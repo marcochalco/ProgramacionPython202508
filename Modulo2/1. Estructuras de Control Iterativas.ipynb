{
 "cells": [
  {
   "cell_type": "markdown",
   "metadata": {},
   "source": [
    "# Estructuras de Control Iterativas"
   ]
  },
  {
   "cell_type": "markdown",
   "metadata": {},
   "source": [
    "A diferencia de las estructuras de control condicionales, las iterativas (también llamadas cíclicas o bucles), nos permiten ejecutar un mismo código, de manera repetida, mientras se cumpla una condición. En Python se dispone de dos estructuras cíclicas: \n",
    "- El bucle while \n",
    "- El bucle for \n",
    "\n",
    "Las veremos en detalle a continuación. "
   ]
  },
  {
   "cell_type": "markdown",
   "metadata": {
    "tags": []
   },
   "source": [
    "## Bucle While\n",
    "------------------------------"
   ]
  },
  {
   "cell_type": "markdown",
   "metadata": {},
   "source": [
    "Se basa en <b>repetir un bloque a partir de evaluar una condición lógica, siempre que ésta sea True</b>. Queda en las manos del programador decidir el momento en que la condición cambie a False para hacer que el While finalice."
   ]
  },
  {
   "cell_type": "markdown",
   "metadata": {},
   "source": [
    "```python\n",
    "while <expr>:\n",
    "    <statement(s)>"
   ]
  },
  {
   "cell_type": "markdown",
   "metadata": {},
   "source": [
    "### Ejemplo\n",
    "\n",
    "Mientras que año sea menor o igual a 2012, imprimir la frase “Informes del Año año”\n",
    "\n",
    "\n",
    " - para el año 2010 realizamos una salida forzada del bucle\n",
    "\n",
    " - si el año es 2005 o 2006, no imprimas ese informe"
   ]
  },
  {
   "cell_type": "code",
   "execution_count": null,
   "metadata": {
    "metadata": {}
   },
   "outputs": [],
   "source": [
    "anio = 2001\n",
    "while anio <= 2012:\n",
    "    \n",
    "    if anio not in [2005, 2006]:\n",
    "        print(\"Informes del Año {}\".format(anio))\n",
    "    else:\n",
    "        pass # no hacemos nada\n",
    "\n",
    "    if anio in [2005, 2006]:\n",
    "        print('Para el anio {} no se generan informes'.format(anio))\n",
    "        anio += 1\n",
    "        continue\n",
    "\n",
    "    print(\"Informes del Año {}\".format(anio))\n",
    "\n",
    "    if anio == 2010:\n",
    "        print(\"Estamos en el 2010\")\n",
    "        break # salir del bucle\n",
    "\n",
    "\n",
    "    anio += 1 # aumentamos contador\n",
    "    pass # pass es un comando que no hace nada\n",
    "\n",
    "print('FInalizando el programa')"
   ]
  },
  {
   "cell_type": "markdown",
   "metadata": {},
   "source": [
    "Si miras la última línea:\n",
    "\n",
    "<code>anio += 1</code>\n",
    "\n",
    "Podrás notar que en cada iteración, incrementamos el valor de la variable que condiciona el bucle (anio). Si no lo hiciéramos, esta variable siempre sería igual a 2001 y el bucle se ejecutaría de forma infinita, ya que la condición (anio <= 2012) siempre se estaría cumpliendo. "
   ]
  },
  {
   "cell_type": "markdown",
   "metadata": {},
   "source": [
    "### - Instruccion <b>break</b>"
   ]
  },
  {
   "cell_type": "markdown",
   "metadata": {},
   "source": [
    "La declaración de <code>break</code> finaliza inmediatamente un bucle por completo. \n",
    "\n",
    "\n",
    "La ejecución del programa procede a la primera instrucción que sigue al cuerpo del ciclo."
   ]
  },
  {
   "cell_type": "code",
   "execution_count": null,
   "metadata": {
    "metadata": {}
   },
   "outputs": [],
   "source": [
    "c = 0\n",
    "while c <= 5:\n",
    "    print(\"c vale \",c)\n",
    "    if c == 4:\n",
    "        print(\"Rompemos el bucle cuando c vale \", c)\n",
    "        break\n",
    "    c+=1\n",
    "    pass # fin bucle while\n"
   ]
  },
  {
   "cell_type": "markdown",
   "metadata": {},
   "source": [
    "### - Instruccion <b>continue</b>"
   ]
  },
  {
   "cell_type": "markdown",
   "metadata": {},
   "source": [
    "La declaración <code>continue</code> finaliza inmediatamente la iteración del bucle actual. \n",
    "\n",
    "La ejecución salta a la parte superior del bucle y la expresión de control se vuelve a evaluar para determinar si el bucle se ejecutará de nuevo o terminará.\n"
   ]
  },
  {
   "cell_type": "code",
   "execution_count": null,
   "metadata": {},
   "outputs": [],
   "source": [
    "c = 0\n",
    "while c <= 5:\n",
    "    c+=1\n",
    "    if c==3 or c==4:\n",
    "        print(\"Continuamos con la siguiente iteración\", c)\n",
    "        continue\n",
    "    print(\"c vale\",c)"
   ]
  },
  {
   "cell_type": "markdown",
   "metadata": {},
   "source": [
    "Podemos tomar la siguiente imagen como referencia para saber como actua las instrucciones break y continue\n",
    "\n",
    "<img src='https://files.realpython.com/media/t.899f357dd948.png' width=300 >"
   ]
  },
  {
   "cell_type": "markdown",
   "metadata": {},
   "source": [
    "### Ejemplo Menú Interactivo"
   ]
  },
  {
   "cell_type": "code",
   "execution_count": null,
   "metadata": {},
   "outputs": [],
   "source": [
    "print(\"Bienvenido al menú interactivo\")\n",
    "while True:\n",
    "    print(\"\"\"¿Qué quieres hacer? Escribe una opción\n",
    "    1) Saludar\n",
    "    2) Sumar dos números\n",
    "    3) Salir\"\"\")\n",
    "    \n",
    "    opcion = input() # me devuelve un string ''\n",
    "    if opcion == '1':\n",
    "        print(\"Hola, espero que te lo estés pasando bien\")\n",
    "    elif opcion == '2':\n",
    "        n1 = float(input(\"Introduce el primer número: \"))\n",
    "        n2 = float(input(\"Introduce el segundo número: \"))\n",
    "        print(f\"El resultado de la suma es: {n1+n2}\")\n",
    "    elif opcion =='3':\n",
    "        print(\"¡Hasta luego! Ha sido un placer ayudarte\")\n",
    "        break\n",
    "    else:\n",
    "        print(\"Comando desconocido, vuelve a intentarlo\")"
   ]
  },
  {
   "cell_type": "markdown",
   "metadata": {},
   "source": [
    "### EJERCICIOS"
   ]
  },
  {
   "cell_type": "markdown",
   "metadata": {},
   "source": [
    "1. Tenemos la pantalla del móvil bloqueada. Partiendo de un PIN_SECRETO, intentaremos desbloquear la pantalla. Tenemos hasta 3 intentos. Simula el proceso con Python. En caso de acceder, lanza al usuario 'login correcto'. Sino, 'llamando al policía'.\n",
    "\n"
   ]
  },
  {
   "cell_type": "markdown",
   "metadata": {},
   "source": [
    "2. \n",
    "\n",
    "Vamos a diseñar una calculadora que se enciende y hasta que no tecleamos 'SAL' no se apaga.\n",
    "\n",
    "Esta calculadora funciona de la siguiente manera:\n",
    "\n",
    "Recogemos los datos A y B\n",
    "\n",
    "- Si operación es 1 calcula la raíz cuadrada de la suma de A y B\n",
    "- Si operación es 2 calcula A / B. Vigilamos que B no sea 0...\n",
    "- Si la operación es 3 calculamos la siguiente fórmula: ( A * B ) / 2.5"
   ]
  },
  {
   "cell_type": "code",
   "execution_count": null,
   "metadata": {},
   "outputs": [],
   "source": []
  },
  {
   "cell_type": "markdown",
   "metadata": {},
   "source": [
    "1. Recorra mediante un bucle los números del 1 al 45, luego realice lo siguiente:\n",
    "\n",
    "- Para los números múltiplos de 3 -> “Hola somos los múltiplos de 3”, x\n",
    "- Para los números múltiplos de 5 -> “Hola, somos los múltiplos de 5”, x\n",
    "- Para los números múltiplos de 3 y 5 -> “Hola, somos los múltiplos de 3 y 5”, x"
   ]
  },
  {
   "cell_type": "markdown",
   "metadata": {},
   "source": [
    "2. Escriba un programa que solicite una contraseña (el texto de la contraseña no es importante) y la vuelva a solicitar hasta que las dos contraseñas coincidan.\n",
    "\n"
   ]
  },
  {
   "cell_type": "markdown",
   "metadata": {},
   "source": [
    "3. Realiza un programa que lea dos números por teclado y permita elegir entre 3 opciones en un menú:\n",
    "\n",
    "- Mostrar una suma de los dos números\n",
    "- Mostrar una resta de los dos números (el primero menos el segundo)\n",
    "- Mostrar una multiplicación de los dos números\n",
    "\n",
    "En caso de introducir una opción inválida, el programa informará de que no es correcta"
   ]
  },
  {
   "cell_type": "markdown",
   "metadata": {
    "tags": []
   },
   "source": [
    "## Bucle For\n",
    "----------------------------------------------"
   ]
  },
  {
   "cell_type": "markdown",
   "metadata": {},
   "source": [
    "El bucle <code>for</code>, en Python, es aquel que nos permitirá iterar una colección de datos (listas, tuplas, dicx, etc):"
   ]
  },
  {
   "cell_type": "markdown",
   "metadata": {},
   "source": [
    "```python\n",
    "for <var> in <iterable>:\n",
    "    <statement(s)>"
   ]
  },
  {
   "cell_type": "code",
   "execution_count": null,
   "metadata": {},
   "outputs": [],
   "source": [
    "# Iterando sobre listas\n",
    "lista_nombres = ['Juan', 'Antonio', 'Pedro', 'Herminio']\n",
    "\n",
    "for nombre in lista_nombres:\n",
    "    print(nombre)"
   ]
  },
  {
   "cell_type": "code",
   "execution_count": null,
   "metadata": {},
   "outputs": [],
   "source": [
    "[*enumerate(lista_nombres)]"
   ]
  },
  {
   "cell_type": "code",
   "execution_count": null,
   "metadata": {},
   "outputs": [],
   "source": [
    "# enumerate -> brinda el indice y el valor del iterable\n",
    "for i, nombre in enumerate(lista_nombres):\n",
    "    print(i, nombre)"
   ]
  },
  {
   "cell_type": "code",
   "execution_count": null,
   "metadata": {},
   "outputs": [],
   "source": [
    "# Modificando valores sobre listas\n",
    "mi_lista = ['Juan', 'Antonio', 'Pedro', 'Herminio','Juan']\n",
    "\n",
    "for elemento in enumerate(mi_lista):\n",
    "    # indice, nombre = elemento\n",
    "    if elemento[1] == 'Juan':\n",
    "        mi_lista[elemento[0]] = 'Maria'\n",
    "\n",
    "\n"
   ]
  },
  {
   "cell_type": "code",
   "execution_count": null,
   "metadata": {},
   "outputs": [],
   "source": [
    "# Modificando valores sobre listas\n",
    "mi_lista = ['Juan', 'Antonio', 'Pedro', 'Herminio','Juan']\n",
    "\n",
    "for indice,nombre in enumerate(mi_lista):\n",
    "    # print(indice, nombre)\n",
    "    if nombre == 'Juan':\n",
    "        mi_lista[indice] = 'Maria'\n",
    "\n",
    "print(mi_lista)"
   ]
  },
  {
   "cell_type": "code",
   "execution_count": null,
   "metadata": {},
   "outputs": [],
   "source": [
    "# valor cambiado\n",
    "mi_lista"
   ]
  },
  {
   "cell_type": "code",
   "execution_count": null,
   "metadata": {},
   "outputs": [],
   "source": [
    "# iterando sobre diccionarios\n",
    "d = {'foo': 1, 'bar': 2, 'baz': 3}\n",
    "\n",
    "d.items()\n",
    "\n"
   ]
  },
  {
   "cell_type": "code",
   "execution_count": null,
   "metadata": {},
   "outputs": [],
   "source": [
    "for k, v in d.items():\n",
    "    print('k =', k, ', v =', v)"
   ]
  },
  {
   "cell_type": "code",
   "execution_count": null,
   "metadata": {},
   "outputs": [],
   "source": [
    "diccionario_notas_alumno = {\n",
    "    \"codigo\": \"20141201G\",\n",
    "    \"nombres\": \"Gonzalo\",\n",
    "    \"apellidos\": \"Delgado\",\n",
    "    \"cursos\": [\n",
    "        {\"curso\": \"Matematica Aplicada\", \"num_creditos\": 6, \"nota\":11},\n",
    "        {\"curso\": \"Econometria\", \"num_creditos\": 4, \"nota\": 15}\n",
    "    ]\n",
    "    # \"curso1\"\n",
    "    # \"curso2\"\n",
    "\n",
    "}"
   ]
  },
  {
   "cell_type": "code",
   "execution_count": null,
   "metadata": {},
   "outputs": [],
   "source": [
    "for key, value in diccionario_notas_alumno.items():\n",
    "    print(f'{key} => {value}')"
   ]
  },
  {
   "cell_type": "code",
   "execution_count": null,
   "metadata": {},
   "outputs": [],
   "source": [
    "# Iterando sobre strings\n",
    "texto = 'Hola Mundo'\n",
    "\n",
    "for i, letra in enumerate(texto):\n",
    "    print(i, letra)"
   ]
  },
  {
   "cell_type": "code",
   "execution_count": null,
   "metadata": {},
   "outputs": [],
   "source": [
    "texto[1] = 'x'"
   ]
  },
  {
   "cell_type": "code",
   "execution_count": null,
   "metadata": {},
   "outputs": [],
   "source": [
    "# sustituir las 'o' por las 'x'\n",
    "texto = 'Hola Mundo'\n",
    "\n",
    "texto_s = ''\n",
    "for letra in texto: \n",
    "\n",
    "    # si aparece una letra 'o', la sustituyo por 'x'\n",
    "    if letra =='o':\n",
    "        texto_s += 'x'\n",
    "    else:\n",
    "        texto_s +=letra\n",
    "texto_s"
   ]
  },
  {
   "cell_type": "code",
   "execution_count": null,
   "metadata": {},
   "outputs": [],
   "source": [
    "# sustituir las 'o' por las 'x'\n",
    "texto = 'Hola Mundo'\n",
    "\n",
    "texto_s = ''\n",
    "for letra in texto:\n",
    "    if letra == 'o':\n",
    "        texto_s += 'x'\n",
    "        continue\n",
    "    texto_s += letra\n",
    "    print(letra)\n",
    "texto_s"
   ]
  },
  {
   "cell_type": "code",
   "execution_count": null,
   "metadata": {},
   "outputs": [],
   "source": [
    "''+'H'+'x'"
   ]
  },
  {
   "cell_type": "code",
   "execution_count": null,
   "metadata": {},
   "outputs": [],
   "source": [
    "texto_s = ''\n",
    "for l in texto:\n",
    "    texto_s += l\n",
    "    print(texto_s)\n",
    "texto_s"
   ]
  },
  {
   "cell_type": "markdown",
   "metadata": {},
   "source": [
    "### Funcion Range"
   ]
  },
  {
   "cell_type": "markdown",
   "metadata": {},
   "source": [
    "Sirve para generar una lista de números que podemos recorrer fácilmente, pero no ocupa memoria porque se interpreta sobre la marcha:\n",
    "\n"
   ]
  },
  {
   "cell_type": "markdown",
   "metadata": {},
   "source": [
    "<img src='data:image/png;base64,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'>"
   ]
  },
  {
   "cell_type": "code",
   "execution_count": null,
   "metadata": {},
   "outputs": [],
   "source": [
    "# range -> no es un lista\n",
    "# si quiero convetir el range a una lista debo  hacer\n",
    "[*range(20)]"
   ]
  },
  {
   "cell_type": "code",
   "execution_count": null,
   "metadata": {},
   "outputs": [],
   "source": [
    "# Generarndo un rango de valores del 2001 al 2012\n",
    "for anio in range(2001, 2013):\n",
    "    print(f\"Informes del Año {anio}\")"
   ]
  },
  {
   "cell_type": "code",
   "execution_count": null,
   "metadata": {},
   "outputs": [],
   "source": [
    "# por defecto el inicio de la funcion es 0\n",
    "for i in range(10):\n",
    "    print(f'#{i+1}')"
   ]
  },
  {
   "cell_type": "code",
   "execution_count": null,
   "metadata": {},
   "outputs": [],
   "source": [
    "[*range(2, 20, 2)]"
   ]
  },
  {
   "cell_type": "code",
   "execution_count": null,
   "metadata": {},
   "outputs": [],
   "source": [
    "# [start, stop>\n",
    "\n",
    "[*range(30, 2, -2)]"
   ]
  },
  {
   "cell_type": "markdown",
   "metadata": {},
   "source": [
    "# Links Referencia\n",
    "----------------------\n",
    "\n",
    "- [Bucle While](https://realpython.com/python-while-loop/#the-python-break-and-continue-statements)\n",
    "- [Bucle For](https://realpython.com/python-for-loop/)\n"
   ]
  },
  {
   "cell_type": "markdown",
   "metadata": {},
   "source": [
    "## EJERCICIOS\n",
    "-----------------------------"
   ]
  },
  {
   "cell_type": "markdown",
   "metadata": {},
   "source": [
    "1. Realiza un programa que pida al usuario cuantos números quiere introducir. Luego lee todos los números y realiza una media aritmética.\n",
    "#### Nota\n",
    "Usar listas\n",
    "\n"
   ]
  },
  {
   "cell_type": "code",
   "execution_count": 1,
   "metadata": {},
   "outputs": [
    {
     "name": "stdout",
     "output_type": "stream",
     "text": [
      "La media aritmética es: 3.0\n"
     ]
    }
   ],
   "source": [
    "# Paso 1: Pedir cuántos números quiere ingresar\n",
    "cantidad = int(input(\"¿Cuántos números quieres introducir? \"))\n",
    "\n",
    "# Paso 2: Crear una lista para guardar los números\n",
    "numeros = []\n",
    "\n",
    "# Paso 3: Leer los números y agregarlos a la lista\n",
    "for i in range(cantidad):\n",
    "    numero = float(input(f\"Introduce el número {i+1}: \"))\n",
    "    numeros.append(numero)\n",
    "\n",
    "# Paso 4: Calcular la media aritmética\n",
    "media = sum(numeros) / len(numeros)\n",
    "\n",
    "# Paso 5: Mostrar el resultado\n",
    "print(\"La media aritmética es:\", round(media, 2))\n"
   ]
  },
  {
   "cell_type": "markdown",
   "metadata": {},
   "source": [
    "2. Calcule la suma de los divisores para un número dado por el usuario."
   ]
  },
  {
   "cell_type": "code",
   "execution_count": null,
   "metadata": {},
   "outputs": [],
   "source": []
  },
  {
   "cell_type": "markdown",
   "metadata": {},
   "source": [
    "3. Escribir un programa que pida al usuario un número entero y muestre por pantalla un triángulo rectángulo como el de más abajo, de altura el número introducido."
   ]
  },
  {
   "cell_type": "markdown",
   "metadata": {},
   "source": [
    "Para n = 4"
   ]
  },
  {
   "cell_type": "code",
   "execution_count": null,
   "metadata": {},
   "outputs": [],
   "source": [
    "#\n",
    "##\n",
    "###\n",
    "####"
   ]
  },
  {
   "cell_type": "code",
   "execution_count": 2,
   "metadata": {},
   "outputs": [
    {
     "name": "stdout",
     "output_type": "stream",
     "text": [
      "*\n",
      "**\n",
      "***\n",
      "****\n",
      "*****\n"
     ]
    }
   ],
   "source": [
    "# Paso 1: Pedir al usuario un número entero\n",
    "altura = int(input(\"Introduce la altura del triángulo: \"))\n",
    "\n",
    "# Paso 2: Mostrar el triángulo rectángulo\n",
    "for i in range(1, altura + 1):\n",
    "    print(\"*\" * i)\n"
   ]
  },
  {
   "cell_type": "markdown",
   "metadata": {},
   "source": [
    "Realizar el triangulo invertido"
   ]
  },
  {
   "cell_type": "code",
   "execution_count": null,
   "metadata": {},
   "outputs": [],
   "source": [
    "   #\n",
    "  ##\n",
    " ###\n",
    "####"
   ]
  },
  {
   "cell_type": "markdown",
   "metadata": {},
   "source": [
    "4. Escribir un programa que pida al usuario un número entero y muestre por pantalla si es un número primo o no.\n",
    "\n",
    "\n",
    "Un número primo es aque que no tiene otro divisor más que el mismo número y el 1.\n",
    "\n"
   ]
  },
  {
   "cell_type": "code",
   "execution_count": null,
   "metadata": {},
   "outputs": [],
   "source": [
    "# Numero primo es aque cuyos divisores son el 1 y el mismo numero\n",
    "\n",
    "# 7 es primo dado que sus divisores son 1 y 7\n",
    "# 8 NO PRIMO dado que sus divisores son 1,2,4,8\n"
   ]
  },
  {
   "cell_type": "markdown",
   "metadata": {},
   "source": [
    "\n",
    "5. Escribir un programa que pida al usuario un número entero y muestre por pantalla un triángulo rectángulo como el de más abajo.\n",
    "\n"
   ]
  },
  {
   "cell_type": "markdown",
   "metadata": {},
   "source": [
    "Para h = 5\n",
    "\n",
    "\n"
   ]
  },
  {
   "cell_type": "code",
   "execution_count": null,
   "metadata": {},
   "outputs": [],
   "source": [
    "1\n",
    "3 1\n",
    "5 3 1\n",
    "7 5 3 1\n",
    "9 7 5 3 1"
   ]
  },
  {
   "cell_type": "code",
   "execution_count": null,
   "metadata": {},
   "outputs": [],
   "source": []
  }
 ],
 "metadata": {
  "kernelspec": {
   "display_name": "Python 3",
   "language": "python",
   "name": "python3"
  },
  "language_info": {
   "codemirror_mode": {
    "name": "ipython",
    "version": 3
   },
   "file_extension": ".py",
   "mimetype": "text/x-python",
   "name": "python",
   "nbconvert_exporter": "python",
   "pygments_lexer": "ipython3",
   "version": "3.9.23"
  }
 },
 "nbformat": 4,
 "nbformat_minor": 4
}
