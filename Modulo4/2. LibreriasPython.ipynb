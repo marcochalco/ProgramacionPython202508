{
 "cells": [
  {
   "cell_type": "markdown",
   "metadata": {
    "tags": []
   },
   "source": [
    "# Manipulación de Librerias en Python\n",
    "----------------------------------------------------"
   ]
  },
  {
   "cell_type": "markdown",
   "metadata": {},
   "source": [
    "En esta sección nos centraremos en conocer algunas de las librerias básicas de python asi como emplear librerias externas."
   ]
  },
  {
   "cell_type": "markdown",
   "metadata": {},
   "source": [
    "## 1. Libreria Datetime\n",
    "-----------------------------\n",
    "\n",
    "Este módulo contiene funcionalidades que nos serán utiles para trabajar con tipos de datos fecha\n",
    "\n",
    "Puede ver más ejemplos en el siguiente [link](https://docs.hektorprofe.net/python/modulos-y-paquetes/modulo-datetime/)"
   ]
  },
  {
   "cell_type": "code",
   "execution_count": null,
   "metadata": {},
   "outputs": [],
   "source": [
    "from datetime import datetime\n",
    "\n",
    "dt = datetime.now()    # Fecha y hora actual\n",
    "\n",
    "print(dt)\n",
    "print(dt.year)         # año\n",
    "print(dt.month)        # mes\n",
    "print(dt.day)          # día\n",
    "\n",
    "print(dt.hour)         # hora\n",
    "print(dt.minute)       # minutos\n",
    "print(dt.second)       # segundos\n",
    "\n",
    "print(dt.microsecond)  # microsegundos\n",
    "\n",
    "print(\"{}:{}:{}\".format(dt.hour, dt.minute, dt.second))\n",
    "print(\"{}/{}/{}\".format(dt.day, dt.month, dt.year))"
   ]
  },
  {
   "cell_type": "code",
   "execution_count": null,
   "metadata": {},
   "outputs": [],
   "source": [
    "# Con esta libreria tambien es posible crear un tipo de dato fecha a partir de los valores de año, mes, dia\n",
    "from datetime import datetime, date\n",
    "\n",
    "dt = datetime(2000,1,1)\n",
    "\n",
    "date_ = date(2000,1,1)\n",
    "\n",
    "print(dt)\n",
    "\n",
    "print(date_)"
   ]
  },
  {
   "cell_type": "markdown",
   "metadata": {},
   "source": [
    "Es posible agregar la zona horaria a nuestra fecha. Para ello debemos emplear la libreria\n",
    "\n",
    "<code>pip install pytz</code>"
   ]
  },
  {
   "cell_type": "code",
   "execution_count": null,
   "metadata": {},
   "outputs": [],
   "source": [
    "!pip install pytz"
   ]
  },
  {
   "cell_type": "code",
   "execution_count": 2,
   "metadata": {},
   "outputs": [
    {
     "ename": "ModuleNotFoundError",
     "evalue": "No module named 'pytz'",
     "output_type": "error",
     "traceback": [
      "\u001b[0;31m---------------------------------------------------------------------------\u001b[0m",
      "\u001b[0;31mModuleNotFoundError\u001b[0m                       Traceback (most recent call last)",
      "Cell \u001b[0;32mIn[2], line 1\u001b[0m\n\u001b[0;32m----> 1\u001b[0m \u001b[38;5;28;01mimport\u001b[39;00m\u001b[38;5;250m \u001b[39m\u001b[38;5;21;01mpytz\u001b[39;00m\n\u001b[1;32m      2\u001b[0m \u001b[38;5;28mprint\u001b[39m(pytz\u001b[38;5;241m.\u001b[39mall_timezones)\n",
      "\u001b[0;31mModuleNotFoundError\u001b[0m: No module named 'pytz'"
     ]
    }
   ],
   "source": [
    "import pytz\n",
    "print(pytz.all_timezones)"
   ]
  },
  {
   "cell_type": "code",
   "execution_count": null,
   "metadata": {},
   "outputs": [],
   "source": [
    "dt = datetime.now(pytz.timezone('America/Lima'))\n",
    "print(dt.strftime(\"%A %d de %B del %Y - %H:%M\"))  # %I 12h - %H 24h"
   ]
  },
  {
   "cell_type": "code",
   "execution_count": null,
   "metadata": {},
   "outputs": [],
   "source": [
    "print(dt.strftime(\"%y-%m-%d\"))"
   ]
  },
  {
   "cell_type": "markdown",
   "metadata": {
    "tags": []
   },
   "source": [
    "## 2. Manipulación de Sistema\n",
    "---------------------------"
   ]
  },
  {
   "cell_type": "markdown",
   "metadata": {},
   "source": [
    "El módulo <code>os</code> nos permite tener un control sobre normbre de archivos y directorios del sistema operativo.\n"
   ]
  },
  {
   "cell_type": "code",
   "execution_count": null,
   "metadata": {},
   "outputs": [],
   "source": [
    "import os       # Nos permite manipular el sistema operativo\n",
    "import shutil   # Nos permite copiar y mover archivos"
   ]
  },
  {
   "cell_type": "code",
   "execution_count": null,
   "metadata": {},
   "outputs": [],
   "source": [
    "# Ruta de Trabajo actual : Es aquella donde realizamos el trabajo actual\n",
    "\n",
    "print( os.getcwd() )"
   ]
  },
  {
   "cell_type": "markdown",
   "metadata": {},
   "source": [
    "### Rutas Absolutas y Rutas Relativas\n",
    "\n",
    "- Ruta Absoluta: Aquella que inicia desde el directorio raiz\n",
    "- Ruta Relativa: Hace referencia a la posición relativa del directorio de trabajo actual\n"
   ]
  },
  {
   "cell_type": "markdown",
   "metadata": {},
   "source": [
    "<img src=\"./img/automating/relative_absolute_path.jpg\">"
   ]
  },
  {
   "cell_type": "code",
   "execution_count": null,
   "metadata": {},
   "outputs": [],
   "source": [
    "# obteniendo ruta absoluta de ruta\n",
    "os.path.abspath('./img')"
   ]
  },
  {
   "cell_type": "code",
   "execution_count": null,
   "metadata": {},
   "outputs": [],
   "source": [
    "# '.' referencia a directorio actual\n",
    "'./scripts'\n",
    "\n",
    "# '..' retrocedo una carpeta y busco la carpeta 'modulo2'\n",
    "'../modulo2'"
   ]
  },
  {
   "cell_type": "markdown",
   "metadata": {},
   "source": [
    "### Validando Existencia de Directorio o File"
   ]
  },
  {
   "cell_type": "code",
   "execution_count": null,
   "metadata": {},
   "outputs": [],
   "source": [
    "# Validando existencia de directorio\n",
    "\n",
    "print( os.path.exists('C:\\\\Windows') )\n",
    "\n",
    "# Comprobando si ruta es directorio\n",
    "print( os.path.isdir('C:\\\\Windows\\\\System32') )\n",
    "\n",
    "print( os.path.isdir('./scripts') )\n",
    "\n",
    "# Comprobando si ruta es file\n",
    "print( os.path.isfile('./texto.txt'))"
   ]
  },
  {
   "cell_type": "markdown",
   "metadata": {},
   "source": [
    "### Otros Métodos de OS"
   ]
  },
  {
   "cell_type": "code",
   "execution_count": null,
   "metadata": {},
   "outputs": [],
   "source": [
    "# Lista elementos del directorio\n",
    "os.listdir('./Ejercicios')\n",
    "\n",
    "# print(os.listdir())"
   ]
  },
  {
   "cell_type": "code",
   "execution_count": null,
   "metadata": {},
   "outputs": [],
   "source": [
    "# chdir -> cambiar la posición sobre la que se encuentra python\n",
    "print( os.getcwd() )\n",
    "os.chdir('./src/demos_files')\n",
    "\n",
    "print(os.getcwd())"
   ]
  },
  {
   "cell_type": "markdown",
   "metadata": {
    "tags": []
   },
   "source": [
    "### Métodos de Copiado de Archivos (shutil)"
   ]
  },
  {
   "cell_type": "code",
   "execution_count": null,
   "metadata": {},
   "outputs": [],
   "source": [
    "# if not os.path.isdir('./scripts'): \n",
    "#     os.mkdir('./scripts') # mkdir -> crea una carpeta en una ruta dada\n",
    "#     os.mkdir('./scripts/2.demos_files')\n",
    "    "
   ]
  },
  {
   "cell_type": "code",
   "execution_count": null,
   "metadata": {},
   "outputs": [],
   "source": [
    "# Copiando archivos de un directorio a una partera\n",
    "# shutil.copy(r'../escritura.txt', r'./escritura.txt')\n",
    "\n",
    "# mover y cambiar nombre a un fichero\n",
    "shutil.move('../nuevo_fichero.txt', './nuevo_fichero_movido.txt')"
   ]
  },
  {
   "cell_type": "code",
   "execution_count": null,
   "metadata": {},
   "outputs": [],
   "source": [
    "os.listdir('./src')"
   ]
  },
  {
   "cell_type": "code",
   "execution_count": null,
   "metadata": {},
   "outputs": [],
   "source": [
    "for file in os.listdir('./src'):\n",
    "    # valido que sea archivo y termine en extensión .txt\n",
    "    if os.path.isfile(f'./src/{file}') and file.endswith('.txt'):\n",
    "        file_name, ext = file.split('.')\n",
    "        shutil.copy(f'./src/{file}', f'./dts/{file_name}_copy.{ext}')"
   ]
  },
  {
   "cell_type": "markdown",
   "metadata": {},
   "source": [
    "### Trabajando con archivos zipeados\n",
    "\n",
    "En esta sección aprenderemos a manipular archivos zipeados con python"
   ]
  },
  {
   "cell_type": "code",
   "execution_count": null,
   "metadata": {},
   "outputs": [],
   "source": [
    "import os\n",
    "import zipfile\n",
    "\n",
    "# creando un archivo zipeado\n",
    "directory = '/workspaces/ProgramacionPython202506/Modulo4/src'\n",
    "files = os.listdir(directory)\n",
    "\n",
    "with zipfile.ZipFile('archivos_txt.zip', 'w') as zip:\n",
    "    for file in files:\n",
    "        # mover en carpeta\n",
    "        file_path = os.path.join(directory, file)\n",
    "\n",
    "        if os.path.isfile(file_path):\n",
    "            zip.write(file_path\n",
    "                      ,  os.path.basename(file_path) # para evitar subcarpetas\n",
    "                      )"
   ]
  },
  {
   "cell_type": "code",
   "execution_count": null,
   "metadata": {},
   "outputs": [],
   "source": [
    "import zipfile\n",
    "\n",
    "\n",
    "# DESCOMPRIMIR INFORMACIÓN DE UN ARCHIVO ZIP\n",
    "with zipfile.ZipFile('padron_reducido_local_anexo.zip', 'r') as zip_ref:\n",
    "    zip_ref.extractall(path='./unzip')"
   ]
  },
  {
   "cell_type": "code",
   "execution_count": null,
   "metadata": {},
   "outputs": [],
   "source": []
  },
  {
   "cell_type": "markdown",
   "metadata": {},
   "source": [
    "## 3. Manipulando Elementos Web\n",
    "----------------------\n",
    "\n",
    "**Requests es una librería Python que facilita enormemente el trabajo con peticiones HTTP**. Antes o después, en algún proyecto, es posible que tengas que hacer peticiones web, ya sea para consumir un API, extraer información de una página o enviar el contenido de un formulario de manera automatizada. Si es así, Python requests es tu gran aliada."
   ]
  },
  {
   "cell_type": "markdown",
   "metadata": {},
   "source": [
    "<center>\n",
    "    <img src='./img/automating/web.png' width=\"500\" height=\"600\">\n",
    "</center>"
   ]
  },
  {
   "cell_type": "code",
   "execution_count": null,
   "metadata": {},
   "outputs": [],
   "source": [
    "# instalando libreria\n",
    "# !pip install lxml \n",
    "!pip install requests"
   ]
  },
  {
   "cell_type": "markdown",
   "metadata": {
    "tags": []
   },
   "source": [
    "### 3.1 Introducción al uso de APIs\n",
    "\n",
    "- Muchos sitios web, generan sus propias APIs a manera de facilitar la comunicación con diversos sistemas de información\n",
    "- A diferencia del web scraping convencional, las APIs son mucho más faciles de utilizar\n",
    "- Comunmente se utilizá el formato JSON como formato de intercambio de datos\n",
    "\n",
    "\n",
    "\n",
    "<center>\n",
    "\n",
    "  <img src='https://encrypted-tbn0.gstatic.com/images?q=tbn:ANd9GcSwTt3CMQQ7JigO6qys2jwVBEToNZahbZL5AA&usqp=CAU' width=\"500\" height=\"600\">\n",
    "\n",
    "</center>\n",
    "\n",
    "Links Referencia\n",
    "-----------------------\n",
    "\n",
    "- [Video Introductorio APIS](https://www.youtube.com/watch?v=sB6Vc3gze3w)\n",
    "- [Qué son las APIS? ](https://developer.mozilla.org/es/docs/Learn/JavaScript/Client-side_web_APIs/Introduction)\n"
   ]
  },
  {
   "cell_type": "markdown",
   "metadata": {},
   "source": [
    "#### Json\n",
    "\n",
    "JSON (JavaScript Object Notation) es un formato ligero de intercambio de datos. JSON es de fácil lectura y escritura para los usuarios\n",
    "\n",
    "- Parecido a un diccionario\n",
    "- Es usualmente el formato empleado como obtendremos la información del sitio web\n",
    "\n",
    "<img src='https://addons.mozilla.org/user-media/previews/full/29/29967.png?modified=1622132517'>\n"
   ]
  },
  {
   "cell_type": "markdown",
   "metadata": {},
   "source": [
    "#### **Ejemplo1**\n",
    "\n",
    "Emplearemos el API de tipo de cambio SUNAT para obtener estos datos de \n",
    "forma directa en lugar de dirigirnos al sitio web SUNAT para obtener estos valores. \n",
    "\n",
    "(Sitio Oficial Sunat: https://e-consulta.sunat.gob.pe/cl-at-ittipcam/tcS01Alias)\n",
    "\n",
    "\n",
    "Muchas apis cuentan con documentación de uso.\n",
    "Para este ejemplo debemos darle una mirada al sitio web\n",
    "\n",
    "- https://apis.net.pe/api-tipo-cambio.html"
   ]
  },
  {
   "cell_type": "code",
   "execution_count": null,
   "metadata": {},
   "outputs": [],
   "source": [
    "!pip install requests"
   ]
  },
  {
   "cell_type": "code",
   "execution_count": null,
   "metadata": {},
   "outputs": [],
   "source": [
    "https://api.apis.net.pe/v1/tipo-cambio-sunat?month=5&year=2025\n",
    "\n",
    "# https://api.apis.net.pe/v1/tipo-cambio-sunat"
   ]
  },
  {
   "cell_type": "code",
   "execution_count": null,
   "metadata": {},
   "outputs": [],
   "source": [
    "## Obteniendo los valores del json \n",
    "import requests\n",
    "\n",
    "\n",
    "url=\"https://api.apis.net.pe/v1/tipo-cambio-sunat\"\n",
    "\n",
    "# regest.get -> para obtener informacion de una url\n",
    "response= requests.get(url)\n",
    "\n",
    "# 2. Recupero la informacion como json\n",
    "data = response.json()\n",
    "\n",
    "data"
   ]
  },
  {
   "cell_type": "code",
   "execution_count": null,
   "metadata": {},
   "outputs": [],
   "source": [
    "\n",
    "# debemos esperar status 200 \n",
    "# para asegurarnos que no hubo ningun problema\n",
    "# para conectarnos a la url\n",
    "response.status_code"
   ]
  },
  {
   "cell_type": "code",
   "execution_count": null,
   "metadata": {},
   "outputs": [],
   "source": [
    "# 3. Recupero valor tipo cambio - compra - venta\n",
    "dolar_compra = data['compra']\n",
    "dolar_venta = data['venta']\n",
    "\n",
    "print(dolar_compra * 10) # costo compra dolar\n",
    "print(dolar_venta * 10) # costo venta dolar"
   ]
  },
  {
   "cell_type": "code",
   "execution_count": null,
   "metadata": {},
   "outputs": [],
   "source": [
    "# Utilicen la siguiente url\n",
    "# Y muestren la informacion del tipo de cambio para el mes y año 202502\n",
    "import requests\n",
    "\n",
    "url = 'https://api.apis.net.pe/v1/tipo-cambio-sunat?month={mes}&year={anio}'\n",
    "\n",
    "\n",
    "response = requests.get(url.format(mes=2, anio=2025))\n",
    "\n",
    "response.status_code"
   ]
  },
  {
   "cell_type": "code",
   "execution_count": null,
   "metadata": {},
   "outputs": [],
   "source": [
    "listado_tipo_cambio = response.json()\n",
    "\n",
    "listado_tipo_cambio"
   ]
  },
  {
   "cell_type": "code",
   "execution_count": null,
   "metadata": {},
   "outputs": [],
   "source": [
    "# Encontrar el dia en que sea más conveniente comprar dolares\n",
    "\n",
    "x_min = 5 # un valor inicial x_min fuera del rango a evaluar\n",
    "\n",
    "for item in listado_tipo_cambio:\n",
    "    # evaluamos nuestro valor minimo contra el valor del diccionario\n",
    "    if x_min> item['compra']:\n",
    "        # si es menor entonces cambiamos x_min\n",
    "        x_min = item['compra']"
   ]
  },
  {
   "cell_type": "code",
   "execution_count": null,
   "metadata": {},
   "outputs": [],
   "source": [
    "for item in listado_tipo_cambio:\n",
    "\n",
    "    if item['compra'] == x_min:\n",
    "        print(item)"
   ]
  },
  {
   "cell_type": "code",
   "execution_count": null,
   "metadata": {},
   "outputs": [],
   "source": [
    "# otra forma de hacer el calculo\n",
    "x_min = 5\n",
    "min(listado_tipo_cambio, key=lambda k: k['compra'] if k['compra']<x_min else x_min)"
   ]
  },
  {
   "cell_type": "code",
   "execution_count": null,
   "metadata": {},
   "outputs": [],
   "source": [
    "# Encontrar el dia en que sea más conveniente vender dolares\n",
    "x_max = -float('inf')  # establemos un valor inicial -infinito\n",
    "\n",
    "for item in listado_tipo_cambio:\n",
    "    # evaluamos nuestro valor minimo contra el valor del diccionario\n",
    "    if item['venta']> x_max:\n",
    "        # si es menor entonces cambiamos x_min\n",
    "        x_max = item['venta']"
   ]
  },
  {
   "cell_type": "code",
   "execution_count": null,
   "metadata": {},
   "outputs": [],
   "source": [
    "# buscamos las fechas que tengan este valor de venta\n",
    "for item in listado_tipo_cambio:\n",
    "    if item['venta'] == x_max:\n",
    "        print(item)"
   ]
  },
  {
   "cell_type": "code",
   "execution_count": null,
   "metadata": {},
   "outputs": [],
   "source": [
    "# otra forma de hacer el calculo\n",
    "x_max = -float('inf')\n",
    "max(listado_tipo_cambio, key=lambda k: k['compra'] if k['compra']>x_max else x_max)"
   ]
  },
  {
   "cell_type": "markdown",
   "metadata": {},
   "source": [
    "#### Ejercicio:\n",
    "\n",
    "Emplearemos el api Pokemons para obtener datos interesantes de nuestro pokemon favorito. \n",
    "\n",
    "Ingrese al siguiente link https://pokeapi.co/ y realice la busqueda del pokemon pikachu trayendo algunos de sus datos\n"
   ]
  },
  {
   "cell_type": "code",
   "execution_count": null,
   "metadata": {},
   "outputs": [],
   "source": []
  },
  {
   "cell_type": "markdown",
   "metadata": {},
   "source": [
    "#### 3.2 Descarga de Archivos Web\n",
    "\n",
    "Los archivos como imagenes o documentos publicados en sitios web es posible descargarlos mediante la libreria Requests"
   ]
  },
  {
   "cell_type": "code",
   "execution_count": null,
   "metadata": {},
   "outputs": [],
   "source": [
    "# Ejemplo\n",
    "#-------------------\n",
    "\n",
    "\"\"\"\n",
    "Imaginemos que quisieramos obtener una imagen situada en el siguiente sitio web.\n",
    "\n",
    "https://es.wikipedia.org/wiki/Canis_familiaris\n",
    "\"\"\"\n",
    "import requests\n",
    "\n",
    "# os.chdir('/workspaces/ProgramacionPython/Modulo4')\n",
    "\n",
    "# para descargar algo de un sitio, necesito la url del elemento a descargar\n",
    "url = 'https://upload.wikimedia.org/wikipedia/commons/thumb/e/e3/Coat_types_3.jpg/250px-Coat_types_3.jpg'\n",
    "# Algunos sitios tienen restricciones de descarga para bots\n",
    "# debemos emplear user agents para simular que es una persona la que hace la busqueda\n",
    "headers = {'User-Agent': 'Mozilla/5.0 (Windows NT 10.0; Win64; x64) AppleWebKit/537.36 (KHTML, like Gecko) Chrome/117.0.0.0 Safari/537.36'}\n",
    "\n",
    "response = requests.get(url, headers=headers)\n",
    "\n",
    "# wb -> escritura en binario \n",
    "# open(ruta_archivo, metodo_escritura)\n",
    "with open('perro.jpg', 'wb') as f:\n",
    "    f.write(response.content)\n",
    "    pass"
   ]
  },
  {
   "cell_type": "markdown",
   "metadata": {},
   "source": [
    "Lectura Adicional: https://realpython.com/python-download-file-from-url/"
   ]
  }
 ],
 "metadata": {
  "kernelspec": {
   "display_name": "Python 3",
   "language": "python",
   "name": "python3"
  },
  "language_info": {
   "codemirror_mode": {
    "name": "ipython",
    "version": 3
   },
   "file_extension": ".py",
   "mimetype": "text/x-python",
   "name": "python",
   "nbconvert_exporter": "python",
   "pygments_lexer": "ipython3",
   "version": "3.9.23"
  }
 },
 "nbformat": 4,
 "nbformat_minor": 4
}
